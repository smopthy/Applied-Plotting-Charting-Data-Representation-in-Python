{
 "cells": [
  {
   "cell_type": "markdown",
   "metadata": {},
   "source": [
    "# Assignment 2\n",
    "\n",
    "Before working on this assignment please read these instructions fully. In the submission area, you will notice that you can click the link to **Preview the Grading** for each step of the assignment. This is the criteria that will be used for peer grading. Please familiarize yourself with the criteria before beginning the assignment.\n",
    "\n",
    "An NOAA dataset has been stored in the file `data/C2A2_data/BinnedCsvs_d400/fb441e62df2d58994928907a91895ec62c2c42e6cd075c2700843b89.csv`. This is the dataset to use for this assignment. Note: The data for this assignment comes from a subset of The National Centers for Environmental Information (NCEI) [Daily Global Historical Climatology Network](https://www1.ncdc.noaa.gov/pub/data/ghcn/daily/readme.txt) (GHCN-Daily). The GHCN-Daily is comprised of daily climate records from thousands of land surface stations across the globe.\n",
    "\n",
    "Each row in the assignment datafile corresponds to a single observation.\n",
    "\n",
    "The following variables are provided to you:\n",
    "\n",
    "* **id** : station identification code\n",
    "* **date** : date in YYYY-MM-DD format (e.g. 2012-01-24 = January 24, 2012)\n",
    "* **element** : indicator of element type\n",
    "    * TMAX : Maximum temperature (tenths of degrees C)\n",
    "    * TMIN : Minimum temperature (tenths of degrees C)\n",
    "* **value** : data value for element (tenths of degrees C)\n",
    "\n",
    "For this assignment, you must:\n",
    "\n",
    "1. Read the documentation and familiarize yourself with the dataset, then write some python code which returns a line graph of the record high and record low temperatures by day of the year over the period 2005-2014. The area between the record high and record low temperatures for each day should be shaded.\n",
    "2. Overlay a scatter of the 2015 data for any points (highs and lows) for which the ten year record (2005-2014) record high or record low was broken in 2015.\n",
    "3. Watch out for leap days (i.e. February 29th), it is reasonable to remove these points from the dataset for the purpose of this visualization.\n",
    "4. Make the visual nice! Leverage principles from the first module in this course when developing your solution. Consider issues such as legends, labels, and chart junk.\n",
    "\n",
    "The data you have been given is near **Ann Arbor, Michigan, United States**, and the stations the data comes from are shown on the map below."
   ]
  },
  {
   "cell_type": "code",
   "execution_count": 213,
   "metadata": {},
   "outputs": [
    {
     "ename": "ModuleNotFoundError",
     "evalue": "No module named 'mplleaflet'",
     "output_type": "error",
     "traceback": [
      "\u001b[0;31m---------------------------------------------------------------------------\u001b[0m",
      "\u001b[0;31mModuleNotFoundError\u001b[0m                       Traceback (most recent call last)",
      "\u001b[0;32m<ipython-input-213-5a794b262961>\u001b[0m in \u001b[0;36m<module>\u001b[0;34m\u001b[0m\n\u001b[1;32m      1\u001b[0m \u001b[0;32mimport\u001b[0m \u001b[0mmatplotlib\u001b[0m\u001b[0;34m.\u001b[0m\u001b[0mpyplot\u001b[0m \u001b[0;32mas\u001b[0m \u001b[0mplt\u001b[0m\u001b[0;34m\u001b[0m\u001b[0;34m\u001b[0m\u001b[0m\n\u001b[0;32m----> 2\u001b[0;31m \u001b[0;32mimport\u001b[0m \u001b[0mmplleaflet\u001b[0m\u001b[0;34m\u001b[0m\u001b[0;34m\u001b[0m\u001b[0m\n\u001b[0m\u001b[1;32m      3\u001b[0m \u001b[0;32mimport\u001b[0m \u001b[0mpandas\u001b[0m \u001b[0;32mas\u001b[0m \u001b[0mpd\u001b[0m\u001b[0;34m\u001b[0m\u001b[0;34m\u001b[0m\u001b[0m\n\u001b[1;32m      4\u001b[0m \u001b[0;34m\u001b[0m\u001b[0m\n\u001b[1;32m      5\u001b[0m \u001b[0;32mdef\u001b[0m \u001b[0mleaflet_plot_stations\u001b[0m\u001b[0;34m(\u001b[0m\u001b[0mbinsize\u001b[0m\u001b[0;34m,\u001b[0m \u001b[0mhashid\u001b[0m\u001b[0;34m)\u001b[0m\u001b[0;34m:\u001b[0m\u001b[0;34m\u001b[0m\u001b[0;34m\u001b[0m\u001b[0m\n",
      "\u001b[0;31mModuleNotFoundError\u001b[0m: No module named 'mplleaflet'"
     ]
    }
   ],
   "source": [
    "import matplotlib.pyplot as plt\n",
    "import mplleaflet\n",
    "import pandas as pd\n",
    "\n",
    "def leaflet_plot_stations(binsize, hashid):\n",
    "\n",
    "    df = pd.read_csv('data/C2A2_data/BinSize_d{}.csv'.format(binsize))\n",
    "\n",
    "    station_locations_by_hash = df[df['hash'] == hashid]\n",
    "\n",
    "    lons = station_locations_by_hash['LONGITUDE'].tolist()\n",
    "    lats = station_locations_by_hash['LATITUDE'].tolist()\n",
    "\n",
    "    plt.figure(figsize=(8,8))\n",
    "\n",
    "    plt.scatter(lons, lats, c='r', alpha=0.7, s=200)\n",
    "\n",
    "    return mplleaflet.display()\n",
    "\n",
    "leaflet_plot_stations(400,'fb441e62df2d58994928907a91895ec62c2c42e6cd075c2700843b89')"
   ]
  },
  {
   "cell_type": "code",
   "execution_count": 214,
   "metadata": {},
   "outputs": [],
   "source": [
    "%matplotlib notebook\n",
    "%matplotlib inline\n",
    "\n",
    "import matplotlib.pyplot as plt\n",
    "import matplotlib.dates as dates\n",
    "import matplotlib.ticker as ticker\n",
    "\n",
    "import pandas as pd\n",
    "import numpy as np\n",
    "plt.rcParams['figure.figsize']=[12,8]"
   ]
  },
  {
   "cell_type": "code",
   "execution_count": 215,
   "metadata": {},
   "outputs": [],
   "source": [
    "data = pd.read_csv('data/C2A2_data/BinnedCsvs_d400/fb441e62df2d58994928907a91895ec62c2c42e6cd075c2700843b89.csv')"
   ]
  },
  {
   "cell_type": "code",
   "execution_count": 216,
   "metadata": {},
   "outputs": [
    {
     "data": {
      "text/html": [
       "<div>\n",
       "<style scoped>\n",
       "    .dataframe tbody tr th:only-of-type {\n",
       "        vertical-align: middle;\n",
       "    }\n",
       "\n",
       "    .dataframe tbody tr th {\n",
       "        vertical-align: top;\n",
       "    }\n",
       "\n",
       "    .dataframe thead th {\n",
       "        text-align: right;\n",
       "    }\n",
       "</style>\n",
       "<table border=\"1\" class=\"dataframe\">\n",
       "  <thead>\n",
       "    <tr style=\"text-align: right;\">\n",
       "      <th></th>\n",
       "      <th>ID</th>\n",
       "      <th>Date</th>\n",
       "      <th>Element</th>\n",
       "      <th>Data_Value</th>\n",
       "    </tr>\n",
       "  </thead>\n",
       "  <tbody>\n",
       "    <tr>\n",
       "      <td>0</td>\n",
       "      <td>USW00094889</td>\n",
       "      <td>2014-11-12</td>\n",
       "      <td>TMAX</td>\n",
       "      <td>22</td>\n",
       "    </tr>\n",
       "    <tr>\n",
       "      <td>1</td>\n",
       "      <td>USC00208972</td>\n",
       "      <td>2009-04-29</td>\n",
       "      <td>TMIN</td>\n",
       "      <td>56</td>\n",
       "    </tr>\n",
       "    <tr>\n",
       "      <td>2</td>\n",
       "      <td>USC00200032</td>\n",
       "      <td>2008-05-26</td>\n",
       "      <td>TMAX</td>\n",
       "      <td>278</td>\n",
       "    </tr>\n",
       "    <tr>\n",
       "      <td>3</td>\n",
       "      <td>USC00205563</td>\n",
       "      <td>2005-11-11</td>\n",
       "      <td>TMAX</td>\n",
       "      <td>139</td>\n",
       "    </tr>\n",
       "    <tr>\n",
       "      <td>4</td>\n",
       "      <td>USC00200230</td>\n",
       "      <td>2014-02-27</td>\n",
       "      <td>TMAX</td>\n",
       "      <td>-106</td>\n",
       "    </tr>\n",
       "    <tr>\n",
       "      <td>...</td>\n",
       "      <td>...</td>\n",
       "      <td>...</td>\n",
       "      <td>...</td>\n",
       "      <td>...</td>\n",
       "    </tr>\n",
       "    <tr>\n",
       "      <td>165080</td>\n",
       "      <td>USC00205822</td>\n",
       "      <td>2015-06-09</td>\n",
       "      <td>TMAX</td>\n",
       "      <td>256</td>\n",
       "    </tr>\n",
       "    <tr>\n",
       "      <td>165081</td>\n",
       "      <td>USC00205822</td>\n",
       "      <td>2009-10-06</td>\n",
       "      <td>TMAX</td>\n",
       "      <td>167</td>\n",
       "    </tr>\n",
       "    <tr>\n",
       "      <td>165082</td>\n",
       "      <td>USC00205050</td>\n",
       "      <td>2014-07-14</td>\n",
       "      <td>TMAX</td>\n",
       "      <td>283</td>\n",
       "    </tr>\n",
       "    <tr>\n",
       "      <td>165083</td>\n",
       "      <td>USC00200230</td>\n",
       "      <td>2006-11-29</td>\n",
       "      <td>TMIN</td>\n",
       "      <td>117</td>\n",
       "    </tr>\n",
       "    <tr>\n",
       "      <td>165084</td>\n",
       "      <td>USC00207312</td>\n",
       "      <td>2006-09-04</td>\n",
       "      <td>TMIN</td>\n",
       "      <td>111</td>\n",
       "    </tr>\n",
       "  </tbody>\n",
       "</table>\n",
       "<p>165085 rows × 4 columns</p>\n",
       "</div>"
      ],
      "text/plain": [
       "                 ID        Date Element  Data_Value\n",
       "0       USW00094889  2014-11-12    TMAX          22\n",
       "1       USC00208972  2009-04-29    TMIN          56\n",
       "2       USC00200032  2008-05-26    TMAX         278\n",
       "3       USC00205563  2005-11-11    TMAX         139\n",
       "4       USC00200230  2014-02-27    TMAX        -106\n",
       "...             ...         ...     ...         ...\n",
       "165080  USC00205822  2015-06-09    TMAX         256\n",
       "165081  USC00205822  2009-10-06    TMAX         167\n",
       "165082  USC00205050  2014-07-14    TMAX         283\n",
       "165083  USC00200230  2006-11-29    TMIN         117\n",
       "165084  USC00207312  2006-09-04    TMIN         111\n",
       "\n",
       "[165085 rows x 4 columns]"
      ]
     },
     "execution_count": 216,
     "metadata": {},
     "output_type": "execute_result"
    }
   ],
   "source": [
    "data"
   ]
  },
  {
   "cell_type": "code",
   "execution_count": 217,
   "metadata": {},
   "outputs": [],
   "source": [
    "# Convert all data to degrees Celsius:\n",
    "data['Data_Value'] = data['Data_Value']*0.1\n",
    "\n",
    "data['Date'] = pd.to_datetime(data['Date'])\n",
    "\n",
    "data['Year'] = data['Date'].dt.year\n",
    "\n",
    "data['Month_Day'] = data['Date'].dt.strftime('%m-%d')"
   ]
  },
  {
   "cell_type": "code",
   "execution_count": 218,
   "metadata": {},
   "outputs": [
    {
     "data": {
      "text/html": [
       "<div>\n",
       "<style scoped>\n",
       "    .dataframe tbody tr th:only-of-type {\n",
       "        vertical-align: middle;\n",
       "    }\n",
       "\n",
       "    .dataframe tbody tr th {\n",
       "        vertical-align: top;\n",
       "    }\n",
       "\n",
       "    .dataframe thead th {\n",
       "        text-align: right;\n",
       "    }\n",
       "</style>\n",
       "<table border=\"1\" class=\"dataframe\">\n",
       "  <thead>\n",
       "    <tr style=\"text-align: right;\">\n",
       "      <th></th>\n",
       "      <th>ID</th>\n",
       "      <th>Date</th>\n",
       "      <th>Element</th>\n",
       "      <th>Data_Value</th>\n",
       "      <th>Year</th>\n",
       "      <th>Month_Day</th>\n",
       "    </tr>\n",
       "  </thead>\n",
       "  <tbody>\n",
       "    <tr>\n",
       "      <td>0</td>\n",
       "      <td>USW00094889</td>\n",
       "      <td>2014-11-12</td>\n",
       "      <td>TMAX</td>\n",
       "      <td>2.2</td>\n",
       "      <td>2014</td>\n",
       "      <td>11-12</td>\n",
       "    </tr>\n",
       "    <tr>\n",
       "      <td>1</td>\n",
       "      <td>USC00208972</td>\n",
       "      <td>2009-04-29</td>\n",
       "      <td>TMIN</td>\n",
       "      <td>5.6</td>\n",
       "      <td>2009</td>\n",
       "      <td>04-29</td>\n",
       "    </tr>\n",
       "    <tr>\n",
       "      <td>2</td>\n",
       "      <td>USC00200032</td>\n",
       "      <td>2008-05-26</td>\n",
       "      <td>TMAX</td>\n",
       "      <td>27.8</td>\n",
       "      <td>2008</td>\n",
       "      <td>05-26</td>\n",
       "    </tr>\n",
       "    <tr>\n",
       "      <td>3</td>\n",
       "      <td>USC00205563</td>\n",
       "      <td>2005-11-11</td>\n",
       "      <td>TMAX</td>\n",
       "      <td>13.9</td>\n",
       "      <td>2005</td>\n",
       "      <td>11-11</td>\n",
       "    </tr>\n",
       "    <tr>\n",
       "      <td>4</td>\n",
       "      <td>USC00200230</td>\n",
       "      <td>2014-02-27</td>\n",
       "      <td>TMAX</td>\n",
       "      <td>-10.6</td>\n",
       "      <td>2014</td>\n",
       "      <td>02-27</td>\n",
       "    </tr>\n",
       "  </tbody>\n",
       "</table>\n",
       "</div>"
      ],
      "text/plain": [
       "            ID       Date Element  Data_Value  Year Month_Day\n",
       "0  USW00094889 2014-11-12    TMAX         2.2  2014     11-12\n",
       "1  USC00208972 2009-04-29    TMIN         5.6  2009     04-29\n",
       "2  USC00200032 2008-05-26    TMAX        27.8  2008     05-26\n",
       "3  USC00205563 2005-11-11    TMAX        13.9  2005     11-11\n",
       "4  USC00200230 2014-02-27    TMAX       -10.6  2014     02-27"
      ]
     },
     "execution_count": 218,
     "metadata": {},
     "output_type": "execute_result"
    }
   ],
   "source": [
    "data.head()"
   ]
  },
  {
   "cell_type": "code",
   "execution_count": 219,
   "metadata": {},
   "outputs": [],
   "source": [
    "# Remove February 29:\n",
    "data = data[data['Month_Day'] != '2-29']"
   ]
  },
  {
   "cell_type": "code",
   "execution_count": 220,
   "metadata": {},
   "outputs": [],
   "source": [
    "# each day highest amd lowest temp \n",
    "max_temp = data[(data.Year >= 2005) & (data.Year < 2015) & \n",
    "                (data['Element'] == 'TMAX')].groupby(['Month_Day'])['Data_Value'].max()\n",
    "min_temp = data[(data.Year >= 2005) & (data.Year < 2015) & \n",
    "                (data['Element'] == 'TMIN')].groupby(['Month_Day'])['Data_Value'].min()"
   ]
  },
  {
   "cell_type": "code",
   "execution_count": 221,
   "metadata": {},
   "outputs": [],
   "source": [
    "# data[(data.Year == 2015) & (data.Month_Day == '06-05') ]"
   ]
  },
  {
   "cell_type": "code",
   "execution_count": 222,
   "metadata": {},
   "outputs": [],
   "source": [
    "# Record breaking data:\n",
    "data = data.merge(max_temp.reset_index(drop=False).rename(columns=\n",
    "                                                          {'Data_Value':'Max_temp'}), on='Month_Day', how='left')\n",
    "data = data.merge(min_temp.reset_index(drop=False).rename(columns=\n",
    "                                                          {'Data_Value':'Min_temp'}), on='Month_Day', how='left')"
   ]
  },
  {
   "cell_type": "code",
   "execution_count": 223,
   "metadata": {},
   "outputs": [],
   "source": [
    "# data[(data.Month_Day == '06-05') & (data.Data_Value == 3.5) ]"
   ]
  },
  {
   "cell_type": "code",
   "execution_count": 224,
   "metadata": {},
   "outputs": [],
   "source": [
    "# \n",
    "record_high = data[(data.Year==2015)&(data.Data_Value > data.Max_temp)]\n",
    "record_low = data[(data.Year==2015)&(data.Data_Value < data.Min_temp)]"
   ]
  },
  {
   "cell_type": "code",
   "execution_count": 225,
   "metadata": {},
   "outputs": [
    {
     "data": {
      "text/plain": [
       "Month_Day\n",
       "01-01    15.6\n",
       "01-02    13.9\n",
       "01-03    13.3\n",
       "01-04    10.6\n",
       "01-05    12.8\n",
       "         ... \n",
       "12-27    18.9\n",
       "12-28    19.4\n",
       "12-29    12.8\n",
       "12-30    11.7\n",
       "12-31    13.9\n",
       "Name: Data_Value, Length: 366, dtype: float64"
      ]
     },
     "execution_count": 225,
     "metadata": {},
     "output_type": "execute_result"
    }
   ],
   "source": [
    "max_temp"
   ]
  },
  {
   "cell_type": "code",
   "execution_count": 226,
   "metadata": {},
   "outputs": [
    {
     "data": {
      "text/plain": [
       "Month_Day\n",
       "01-01   -16.0\n",
       "01-02   -26.7\n",
       "01-03   -26.7\n",
       "01-04   -26.1\n",
       "01-05   -15.0\n",
       "         ... \n",
       "12-27   -13.8\n",
       "12-28   -16.6\n",
       "12-29   -15.0\n",
       "12-30   -14.4\n",
       "12-31   -15.0\n",
       "Name: Data_Value, Length: 366, dtype: float64"
      ]
     },
     "execution_count": 226,
     "metadata": {},
     "output_type": "execute_result"
    }
   ],
   "source": [
    "min_temp"
   ]
  },
  {
   "cell_type": "code",
   "execution_count": 228,
   "metadata": {},
   "outputs": [
    {
     "data": {
      "image/png": "[encoded data removed]",
      "text/plain": [
       "<Figure size 864x576 with 1 Axes>"
      ]
     },
     "metadata": {
      "needs_background": "light"
     },
     "output_type": "display_data"
    }
   ],
   "source": [
    "# X Axis spanning 2015 only:\n",
    "date_index = np.arange('2015-01-01','2016-01-02', dtype='datetime64[D]')\n",
    "\n",
    "plt.figure()\n",
    "\n",
    "plt.plot(date_index,max_temp,color='lightcoral', linewidth=1) # Max in red.\n",
    "plt.plot(date_index,min_temp,color='skyblue', linewidth=1) # Min in blue.\n",
    "\n",
    "plt.scatter(record_high.Date.values, record_high.Data_Value.values, color='red', s=8)\n",
    "plt.scatter(record_low.Date.values, record_low.Data_Value.values, color='blue', s=8)\n",
    "\n",
    "# Set x and y limits.\n",
    "ax = plt.gca()\n",
    "ax.axis(['2015/01/01','2015/12/31',-50,50])\n",
    "\n",
    "# Set axis names and title:\n",
    "plt.xlabel('Date', fontsize=10)\n",
    "plt.ylabel('° Celsius', fontsize=10)\n",
    "plt.title('Temperature in Ann Arbour, Michigan (2005-2015)', fontsize=12)\n",
    "\n",
    "# Create legend and title\n",
    "# loc=0 provides the best position for the legend\n",
    "plt.legend(['Record high (2005-2014)','Record low (2005-2014)','Record breaking high in 2015','Record breaking low in 2015'],loc=0,frameon=False)\n",
    "\n",
    "# Fill colour between highs and lows:\n",
    "# alpha adjusts darkness of the shade.\n",
    "ax.fill_between(date_index, max_temp, min_temp, facecolor='grey', alpha=0.25)\n",
    "\n",
    "# # Where you locate the major and minor ticks:\n",
    "ax.xaxis.set_major_locator(dates.MonthLocator())\n",
    "ax.xaxis.set_minor_locator(dates.MonthLocator(bymonthday=15))\n",
    "# # Put the label at the minor tick so it's in the center.\n",
    "# # ax.yaxis.set_minor_locator()\n",
    "\n",
    "# # What you put at the ticks:\n",
    "ax.xaxis.set_major_formatter(ticker.NullFormatter())\n",
    "ax.xaxis.set_minor_formatter(dates.DateFormatter('%b'))\n",
    "\n",
    "# # 1 refers to the bottom of the plot for xticks and the left for yticks\n",
    "# # 2 refers to the top of the plot for xticks and the right for yticks\n",
    "\n",
    "# for tick in ax.xaxis.get_minor_ticks():\n",
    "#     tick.tick1line.set_markersize(0) # Make small ticker disappear\n",
    "#     tick.label1.set_horizontalalignment('center')"
   ]
  },
  {
   "cell_type": "code",
   "execution_count": null,
   "metadata": {},
   "outputs": [],
   "source": []
  },
  {
   "cell_type": "code",
   "execution_count": null,
   "metadata": {},
   "outputs": [],
   "source": [
    "# "
   ]
  }
 ],
 "metadata": {
  "kernelspec": {
   "display_name": "Python 3",
   "language": "python",
   "name": "python3"
  },
  "language_info": {
   "codemirror_mode": {
    "name": "ipython",
    "version": 3
   },
   "file_extension": ".py",
   "mimetype": "text/x-python",
   "name": "python",
   "nbconvert_exporter": "python",
   "pygments_lexer": "ipython3",
   "version": "3.7.4"
  }
 },
 "nbformat": 4,
 "nbformat_minor": 1
}
