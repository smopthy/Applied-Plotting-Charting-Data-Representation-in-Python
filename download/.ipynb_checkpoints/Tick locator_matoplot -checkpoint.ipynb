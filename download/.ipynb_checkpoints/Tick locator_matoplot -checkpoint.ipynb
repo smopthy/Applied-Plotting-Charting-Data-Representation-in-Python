{
 "cells": [
  {
   "cell_type": "code",
   "execution_count": 9,
   "metadata": {},
   "outputs": [],
   "source": [
    "import numpy as np\n",
    "import matplotlib.pyplot as plt\n",
    "import matplotlib.ticker as ticker"
   ]
  },
  {
   "cell_type": "code",
   "execution_count": null,
   "metadata": {},
   "outputs": [],
   "source": [
    "# #修改主刻度\n",
    "# xmajorLocator = MultipleLocator(20) #将x主刻度标签设置为20的倍数\n",
    "# xmajorFormatter = FormatStrFormatter('%5.1f') #设置x轴标签文本的格式\n",
    "# ymajorLocator = MultipleLocator(0.5) #将y轴主刻度标签设置为0.5的倍数\n",
    "# ymajorFormatter = FormatStrFormatter('%1.1f') #设置y轴标签文本的格式\n",
    "# #设置主刻度标签的位置,标签文本的格式\n",
    "# ax.xaxis.set_major_locator(xmajorLocator)\n",
    "# ax.xaxis.set_major_formatter(xmajorFormatter) \n",
    "# ax.yaxis.set_major_locator(ymajorLocator)\n",
    "# ax.yaxis.set_major_formatter(ymajorFormatter)\n",
    "\n",
    "# #修改次刻度\n",
    "# xminorLocator = MultipleLocator(5) #将x轴次刻度标签设置为5的倍数\n",
    "# yminorLocator = MultipleLocator(0.1) #将此y轴次刻度标签设置为0.1的倍数\n",
    "# #设置次刻度标签的位置,没有标签文本格式\n",
    "# ax.xaxis.set_minor_locator(xminorLocator)\n",
    "# ax.yaxis.set_minor_locator(yminorLocator)\n",
    "\n",
    "# #打开网格\n",
    "# ax.xaxis.grid(True, which='major') #x坐标轴的网格使用主刻度\n",
    "# ax.yaxis.grid(True, which='minor') #y坐标轴的网格使用次刻度\n"
   ]
  },
  {
   "cell_type": "code",
   "execution_count": 24,
   "metadata": {},
   "outputs": [
    {
     "data": {
      "image/png": "[encoded data removed]",
      "text/plain": [
       "<Figure size 576x432 with 1 Axes>"
      ]
     },
     "metadata": {},
     "output_type": "display_data"
    }
   ],
   "source": [
    "\n",
    "# Setup a plot such that only the bottom spine is shown\n",
    "def setup(ax): \n",
    "    # spine 邊 ：分上下左右\n",
    "    ax.spines['right'].set_color('none') \n",
    "    ax.spines['left'].set_color('none')\n",
    "    ax.yaxis.set_major_locator(ticker.NullLocator())\n",
    "    ax.spines['top'].set_color('none')\n",
    "    ax.xaxis.set_ticks_position('bottom')\n",
    "    ax.tick_params(which='major', width=1.00)\n",
    "    ax.tick_params(which='major', length=5)\n",
    "    ax.tick_params(which='minor', width=0.75)\n",
    "    ax.tick_params(which='minor', length=2.5)\n",
    "    ax.set_xlim(0, 5)\n",
    "    ax.set_ylim(0, 1)\n",
    "    ax.patch.set_alpha(0.0)\n",
    "\n",
    "    \n",
    "\n",
    "    \n",
    "plt.figure(figsize=(8, 6))\n",
    "n = 8\n",
    "\n",
    "# Null Locator\n",
    "ax = plt.subplot(n, 1, 1)\n",
    "setup(ax)\n",
    "ax.xaxis.set_major_locator(ticker.NullLocator())\n",
    "ax.xaxis.set_minor_locator(ticker.NullLocator())\n",
    "# ax.text(x軸位置 , y軸位置 , 文字內容 , fonsize=14 文字大小 )\n",
    "ax.text(0.0, 0.1, \"NullLocator()\", fontsize=14)\n",
    "\n",
    "\n",
    "# Push the top of the top axes outside the figure because we only show the\n",
    "# bottom spine.\n",
    "plt.subplots_adjust(left=0.05, right=0.95, bottom=0.05, top=1.05)\n",
    "\n",
    "plt.show()"
   ]
  },
  {
   "cell_type": "code",
   "execution_count": 21,
   "metadata": {},
   "outputs": [
    {
     "data": {
      "image/png": "[encoded data removed]",
      "text/plain": [
       "<Figure size 432x288 with 1 Axes>"
      ]
     },
     "metadata": {
      "needs_background": "light"
     },
     "output_type": "display_data"
    }
   ],
   "source": [
    "\n",
    "# Multiple Locator\n",
    "ax = plt.subplot(n, 1, 2)\n",
    "setup(ax)\n",
    "ax.xaxis.set_major_locator(ticker.MultipleLocator(0.5)) \n",
    "ax.xaxis.set_minor_locator(ticker.MultipleLocator(0.1))\n",
    "ax.text(0.0, 0.1, \"MultipleLocator(0.5)\", fontsize=14,\n",
    "        transform=ax.transAxes)\n",
    "\n",
    "# Push the top of the top axes outside the figure because we only show the\n",
    "# bottom spine.\n",
    "plt.subplots_adjust(left=0.05, right=0.95, bottom=0.05, top=1.05)\n",
    "\n",
    "plt.show()\n"
   ]
  },
  {
   "cell_type": "code",
   "execution_count": 14,
   "metadata": {},
   "outputs": [
    {
     "data": {
      "image/png": "[encoded data removed]",
      "text/plain": [
       "<Figure size 432x288 with 1 Axes>"
      ]
     },
     "metadata": {
      "needs_background": "light"
     },
     "output_type": "display_data"
    }
   ],
   "source": [
    "\n",
    "# Fixed Locator\n",
    "ax = plt.subplot(n, 1, 3)\n",
    "setup(ax)\n",
    "majors = [0, 1, 5]\n",
    "ax.xaxis.set_major_locator(ticker.FixedLocator(majors))\n",
    "minors = np.linspace(0, 1, 11)[1:-1]\n",
    "ax.xaxis.set_minor_locator(ticker.FixedLocator(minors))\n",
    "ax.text(0.0, 0.1, \"FixedLocator([0, 1, 5])\", fontsize=14,\n",
    "        transform=ax.transAxes)\n",
    "\n",
    "\n",
    "# Push the top of the top axes outside the figure because we only show the\n",
    "# bottom spine.\n",
    "plt.subplots_adjust(left=0.05, right=0.95, bottom=0.05, top=1.05)\n",
    "\n",
    "plt.show()"
   ]
  },
  {
   "cell_type": "code",
   "execution_count": 13,
   "metadata": {},
   "outputs": [
    {
     "data": {
      "image/png": "[encoded data removed]",
      "text/plain": [
       "<Figure size 432x288 with 1 Axes>"
      ]
     },
     "metadata": {
      "needs_background": "light"
     },
     "output_type": "display_data"
    }
   ],
   "source": [
    "\n",
    "# Linear Locator\n",
    "ax = plt.subplot(n, 1, 4)\n",
    "setup(ax)\n",
    "ax.xaxis.set_major_locator(ticker.LinearLocator(3))\n",
    "ax.xaxis.set_minor_locator(ticker.LinearLocator(31))\n",
    "ax.text(0.0, 0.1, \"LinearLocator(numticks=3)\",\n",
    "        fontsize=14, transform=ax.transAxes)\n",
    "\n",
    "\n",
    "# Push the top of the top axes outside the figure because we only show the\n",
    "# bottom spine.\n",
    "plt.subplots_adjust(left=0.05, right=0.95, bottom=0.05, top=1.05)\n",
    "\n",
    "plt.show()\n"
   ]
  },
  {
   "cell_type": "code",
   "execution_count": 6,
   "metadata": {},
   "outputs": [
    {
     "data": {
      "text/plain": [
       "Text(0.0, 0.1, 'IndexLocator(base=0.5, offset=0.25)')"
      ]
     },
     "execution_count": 6,
     "metadata": {},
     "output_type": "execute_result"
    },
    {
     "data": {
      "image/png": "[encoded data removed]",
      "text/plain": [
       "<Figure size 432x288 with 1 Axes>"
      ]
     },
     "metadata": {
      "needs_background": "light"
     },
     "output_type": "display_data"
    }
   ],
   "source": [
    "# Index Locator\n",
    "ax = plt.subplot(n, 1, 5)\n",
    "setup(ax)\n",
    "ax.plot(range(0, 5), [0]*5, color='white')\n",
    "ax.xaxis.set_major_locator(ticker.IndexLocator(base=.5, offset=.25))\n",
    "ax.text(0.0, 0.1, \"IndexLocator(base=0.5, offset=0.25)\",\n",
    "        fontsize=14, transform=ax.transAxes)\n",
    "\n",
    "\n",
    "# Push the top of the top axes outside the figure because we only show the\n",
    "# bottom spine.\n",
    "plt.subplots_adjust(left=0.05, right=0.95, bottom=0.05, top=1.05)\n",
    "\n",
    "plt.show()"
   ]
  },
  {
   "cell_type": "code",
   "execution_count": 7,
   "metadata": {},
   "outputs": [
    {
     "data": {
      "text/plain": [
       "Text(0.0, 0.1, 'AutoLocator()')"
      ]
     },
     "execution_count": 7,
     "metadata": {},
     "output_type": "execute_result"
    },
    {
     "data": {
      "image/png": "[encoded data removed]",
      "text/plain": [
       "<Figure size 432x288 with 1 Axes>"
      ]
     },
     "metadata": {
      "needs_background": "light"
     },
     "output_type": "display_data"
    }
   ],
   "source": [
    "\n",
    "# Auto Locator\n",
    "ax = plt.subplot(n, 1, 6)\n",
    "setup(ax)\n",
    "ax.xaxis.set_major_locator(ticker.AutoLocator())\n",
    "ax.xaxis.set_minor_locator(ticker.AutoMinorLocator())\n",
    "ax.text(0.0, 0.1, \"AutoLocator()\", fontsize=14, transform=ax.transAxes)\n",
    "\n",
    "# Push the top of the top axes outside the figure because we only show the\n",
    "# bottom spine.\n",
    "plt.subplots_adjust(left=0.05, right=0.95, bottom=0.05, top=1.05)\n",
    "\n",
    "plt.show()"
   ]
  },
  {
   "cell_type": "code",
   "execution_count": 8,
   "metadata": {},
   "outputs": [
    {
     "data": {
      "text/plain": [
       "Text(0.0, 0.1, 'MaxNLocator(n=4)')"
      ]
     },
     "execution_count": 8,
     "metadata": {},
     "output_type": "execute_result"
    },
    {
     "data": {
      "image/png": "[encoded data removed]",
      "text/plain": [
       "<Figure size 432x288 with 1 Axes>"
      ]
     },
     "metadata": {
      "needs_background": "light"
     },
     "output_type": "display_data"
    }
   ],
   "source": [
    "# MaxN Locator\n",
    "ax = plt.subplot(n, 1, 7)\n",
    "setup(ax)\n",
    "ax.xaxis.set_major_locator(ticker.MaxNLocator(4))\n",
    "ax.xaxis.set_minor_locator(ticker.MaxNLocator(40))\n",
    "ax.text(0.0, 0.1, \"MaxNLocator(n=4)\", fontsize=14, transform=ax.transAxes)\n",
    "\n",
    "# Push the top of the top axes outside the figure because we only show the\n",
    "# bottom spine.\n",
    "plt.subplots_adjust(left=0.05, right=0.95, bottom=0.05, top=1.05)\n",
    "\n",
    "plt.show()"
   ]
  },
  {
   "cell_type": "code",
   "execution_count": null,
   "metadata": {},
   "outputs": [],
   "source": [
    "# Log Locator\n",
    "ax = plt.subplot(n, 1, 8)\n",
    "setup(ax)\n",
    "ax.set_xlim(10**3, 10**10)\n",
    "ax.set_xscale('log')\n",
    "ax.xaxis.set_major_locator(ticker.LogLocator(base=10.0, numticks=15))\n",
    "ax.text(0.0, 0.1, \"LogLocator(base=10, numticks=15)\",\n",
    "        fontsize=15, transform=ax.transAxes)\n",
    "\n",
    "# Push the top of the top axes outside the figure because we only show the\n",
    "# bottom spine.\n",
    "plt.subplots_adjust(left=0.05, right=0.95, bottom=0.05, top=1.05)\n",
    "\n",
    "plt.show()"
   ]
  }
 ],
 "metadata": {
  "kernelspec": {
   "display_name": "Python 3",
   "language": "python",
   "name": "python3"
  },
  "language_info": {
   "codemirror_mode": {
    "name": "ipython",
    "version": 3
   },
   "file_extension": ".py",
   "mimetype": "text/x-python",
   "name": "python",
   "nbconvert_exporter": "python",
   "pygments_lexer": "ipython3",
   "version": "3.7.4"
  }
 },
 "nbformat": 4,
 "nbformat_minor": 2
}
