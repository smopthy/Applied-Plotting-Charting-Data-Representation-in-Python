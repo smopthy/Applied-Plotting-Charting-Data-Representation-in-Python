{
 "cells": [
  {
   "cell_type": "code",
   "execution_count": 1,
   "metadata": {
    "collapsed": false
   },
   "outputs": [
    {
     "name": "stdout",
     "output_type": "stream",
     "text": [
      "readonly/\n",
      "readonly/Assignment4_example.pdf\n",
      "readonly/Week4.ipynb\n",
      "readonly/Assignment3.ipynb\n",
      "readonly/Assignment3Fig2c.png\n",
      "readonly/Assignment3Fig1.png\n",
      "readonly/Matplotlib_3D.ipynb\n",
      "readonly/Week2.ipynb\n",
      "readonly/iris.csv\n",
      "readonly/UnderstandingDistributionsThroughSampling.ipynb\n",
      "readonly/Assignment4.ipynb\n",
      "readonly/Assignment2.ipynb\n",
      "readonly/Week3.ipynb\n",
      "readonly/Dejunking.ipynb\n",
      "data/C2A2_data/BinSize_d100.csv\n",
      "data/C2A2_data/BinSize_d13.csv\n",
      "data/C2A2_data/BinSize_d18.csv\n",
      "data/C2A2_data/BinSize_d200.csv\n",
      "data/C2A2_data/BinSize_d25.csv\n",
      "data/C2A2_data/BinSize_d400.csv\n",
      "data/C2A2_data/BinSize_d50.csv\n",
      "data/C2A2_data/GHCND_10Year.h5\n",
      "data/C2A2_data/ghcn_daily_readme.txt\n",
      "data/C2A2_data/ghcnd-stations.csv\n",
      "tar: data/C2A2_data/BinnedCsvs_d400/same_as_above.csv: Cannot stat: No such file or directory\n",
      "tar: Exiting with failure status due to previous errors\n"
     ]
    }
   ],
   "source": [
    "!tar -cvf readonly.tar readonly\n",
    "!tar -cvf data1.tar data/*/*.*\n",
    "!tar -cvf data2.tar data/C2A2_data/BinnedCsvs_d400/same_as_above.csv"
   ]
  },
  {
   "cell_type": "code",
   "execution_count": null,
   "metadata": {
    "collapsed": true
   },
   "outputs": [],
   "source": []
  }
 ],
 "metadata": {
  "kernelspec": {
   "display_name": "Python 3",
   "language": "python",
   "name": "python3"
  },
  "language_info": {
   "codemirror_mode": {
    "name": "ipython",
    "version": 3
   },
   "file_extension": ".py",
   "mimetype": "text/x-python",
   "name": "python",
   "nbconvert_exporter": "python",
   "pygments_lexer": "ipython3",
   "version": "3.6.2"
  }
 },
 "nbformat": 4,
 "nbformat_minor": 1
}
